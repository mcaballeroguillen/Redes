{
 "cells": [
  {
   "cell_type": "code",
   "execution_count": 1,
   "metadata": {
    "collapsed": true
   },
   "outputs": [],
   "source": [
    "import random\n",
    "import socket\n",
    "import threading\n",
    "import hashlib\n",
    "import time\n",
    "import datetime\n",
    "from IPython.display import clear_output\n",
    "class Cliente_GBN:\n",
    "    def __init__(self,Ip_server,file,le_wi,le_pa,max_sec,port_send,port_rec):\n",
    "        self.serverIP=Ip_server # Ip del sevidor \n",
    "        self.file = file #Dirección del archivo a abrir \n",
    "        self.l_ventana= le_wi # Largo de la ventana\n",
    "        self.largo_partes = le_pa # Largo de las partes en que se va dividir el archivo\n",
    "        self.max_secuencia= max_sec # Número de secuencia máximo\n",
    "        self.port_envio=port_send # Puerto de envío \n",
    "        self.port_recibo=port_rec # Puerto de entrada\n",
    "        self.fill =0 # Largo de los números de secuencias\n",
    "        self.data =[] # Los paquetes a enviar\n",
    "        self.vi=0 # Indice inicial de la ventana\n",
    "        self.vf=le_wi # Indice Final de la ventana\n",
    "        self.tim= threading.Timer(1,self.enviar_ventana) #Timer para enviar la ventana \n",
    "        self.info=[] # info de cada paquete (num_secuencia,num_envios,hora_de_envío,hora_de_rec_ack)\n",
    "        self.TimeoutInterval=1 # tiempo del timer\n",
    "        self.EstimateRTT=1\n",
    "        self.devRTT =0\n",
    "        # Calcula el checksum de un mensaje en string (sí, es así de simple)\n",
    "    def calculate_checksum(self,message):\n",
    "        checksum = hashlib.md5(message.encode()).hexdigest()\n",
    "        return checksum\n",
    "    \n",
    "    # Crear mensaje\n",
    "    def create_message(self,message, seq_num):\n",
    "        seq_num_padded = str(seq_num).zfill(self.fill)\n",
    "        checksum = self.calculate_checksum(message)\n",
    "        return \"%s%s%s\" % (str(seq_num_padded), str(checksum), message)\n",
    "    \n",
    "    def cargar_datos(self):\n",
    "        archivo = open(self.file,'r') #Abrir el archivo\n",
    "        mensaje = archivo.read() # Leer mensaje \n",
    "        archivo.close()\n",
    "        parts = [mensaje[i:i+self.largo_partes] for i in range(0, len(mensaje), self.largo_partes)] # partir el archivo\n",
    "        self.fill = len(str(self.max_secuencia)) #Sacar el número de caracteres de los numeros de secuencias\n",
    "        num_secuencia=0 \n",
    "        for part in parts: #para cada parte del archivo construimos su paquete para enviar.\n",
    "            if(num_secuencia>self.max_secuencia): # resetear el número de secuencia\n",
    "                num_secuencia=0\n",
    "            paquete = self.create_message(part,num_secuencia) #paquete listo para enviar.\n",
    "            self.data.append(paquete) #agregar paquete a la data\n",
    "            self.info.append([num_secuencia,0,None,None]) # agregar info del paquete\n",
    "           \n",
    "            num_secuencia=num_secuencia+1\n",
    "        \n",
    "    # Envía el paquete con datos al servidor\n",
    "    def send_packet(self,ip, port, message):\n",
    "        sock = socket.socket(socket.AF_INET, socket.SOCK_DGRAM)\n",
    "        server_address = (ip, port)\n",
    "        try:\n",
    "            sock.sendto(message.encode(), server_address)\n",
    "        finally:\n",
    "            sock.close()\n",
    "            \n",
    "    def enviar_ventana(self):\n",
    "           for x in range(self.vi, self.vf+1): #por cada paquete en la ventana\n",
    "                print(\"Enviando paquete.\"+str(x)) \n",
    "                info1= self.info[x] #buscamos la info del paquete \n",
    "                info1[1] =info1[1]+1 # sumamos un envió del paquete\n",
    "                info1[2] = datetime.datetime.now() # agregamos la hora d envió\n",
    "                self.info[x]=info1 # guardamos la info\n",
    "                self.send_packet(self.serverIP,self.port_envio,self.data[x]) #enviamos\n",
    "            \n",
    "    \n",
    "    def calcEst(self, antEst, sample, desvAnt):\n",
    "        a = 1/8\n",
    "        est = (1-a)*antEst+(a*sample)\n",
    "        b = 1/4\n",
    "        desv = (1-b)*desvAnt + b*abs(sample-antEst)\n",
    "        return est, desv\n",
    "\n",
    "    def receive_ack(self):\n",
    "       \n",
    "        sock = socket.socket(socket.AF_INET, socket.SOCK_DGRAM)\n",
    "\n",
    "        sock.bind(('127.0.0.1', self.port_recibo))\n",
    "        sock.settimeout(90)\n",
    "\n",
    "        while (self.vi!=self.vf):\n",
    "            data, address = sock.recvfrom(1024) #Esperamos acks\n",
    "            self.tim.cancel() #Al llegar ack paramos los envios, vamos a ajustar la ventana\n",
    "            ack = data.decode() \n",
    "            num_sec = ack[0:self.fill] # sacamos el número de secuencia.\n",
    "           \n",
    "            index=0\n",
    "            num_sec = int(num_sec) #pasamos a entero el número de secuencia\n",
    "            for x in range(self.vi, self.vf+1): #buscamos en que indice esta el paquete que llego\n",
    "                if(self.info[x][0]==num_sec):\n",
    "                    index=x \n",
    "                    break\n",
    "            print(\"llego ack de : \"+str(index) + \" Numsec= \"+str(num_sec) )\n",
    "            self.vi=index #valor inicial de la ventana es el indice que llego.\n",
    "            pvf= self.vi+self.l_ventana #  posible valor final de la ventana\n",
    "            if(pvf>=len(self.data)): # el valor final de la ventana no puede ser mayor que la cantidad de datos.\n",
    "                self.vf=len(self.data)-1\n",
    "            else:\n",
    "                self.vf=pvf\n",
    "            self.info[index][3]= datetime.datetime.now() #Colocamos la hora de llegada\n",
    "            if(self.info[index][1]==1): #Solo calculamos nuevo tiempo si solo se ha enviado una vez.\n",
    "                self.info[index][1]=self.info[index][1]+1 #Para no calcular mas de una vez si llegan más acks\n",
    "                Samplertt = (self.info[index][3]-self.info[index][2]).seconds #Tiempo desde envió hasta recibir acks\n",
    "                newEst, newdesv= self.calcEst(self.EstimateRTT,Samplertt,self.devRTT) #nuevos valores\n",
    "                self.EstimateRTT = newEst # setiamos\n",
    "                self.devRTT=newdesv \n",
    "                self.TimeoutInterval = newEst + 4*newdesv\n",
    "            print(\"Timer= \"+ str(self.TimeoutInterval))\n",
    "            self.tim= threading.Timer(self.TimeoutInterval,self.enviar_ventana) #volver a iniciar tread.\n",
    "            self.tim.start()\n",
    "        self.send_packet(self.serverIP,self.port_envio,\"\")\n",
    "        \n",
    "        \n",
    "        \n",
    "    "
   ]
  },
  {
   "cell_type": "code",
   "execution_count": 2,
   "metadata": {},
   "outputs": [
    {
     "name": "stdout",
     "output_type": "stream",
     "text": [
      "total de paquetes a enviar 621\n"
     ]
    }
   ],
   "source": [
    "client = Cliente_GBN(\"0.0.0.0\",\"divina_comedia.txt\",25,900,99,2030,2040)\n",
    "client.cargar_datos()\n",
    "print(\"total de paquetes a enviar \"+str(len(client.data)))\n"
   ]
  },
  {
   "cell_type": "markdown",
   "metadata": {},
   "source": [
    "ack_thread = threading.Thread(target=client.receive_ack)\n",
    "ack_thread.start()\n",
    "\n",
    "client.tim.start()\n"
   ]
  },
  {
   "cell_type": "code",
   "execution_count": 7,
   "metadata": {},
   "outputs": [
    {
     "ename": "SyntaxError",
     "evalue": "invalid syntax (<ipython-input-7-a0846c9c7ccc>, line 1)",
     "output_type": "error",
     "traceback": [
      "\u001b[0;36m  File \u001b[0;32m\"<ipython-input-7-a0846c9c7ccc>\"\u001b[0;36m, line \u001b[0;32m1\u001b[0m\n\u001b[0;31m    fuser -k 2035/udp\u001b[0m\n\u001b[0m                ^\u001b[0m\n\u001b[0;31mSyntaxError\u001b[0m\u001b[0;31m:\u001b[0m invalid syntax\n"
     ]
    }
   ],
   "source": [
    "fuser -k 2035/udp\n"
   ]
  },
  {
   "cell_type": "code",
   "execution_count": 2,
   "metadata": {
    "collapsed": true
   },
   "outputs": [],
   "source": [
    "import datetime\n",
    "\n",
    "a = datetime.datetime.now()"
   ]
  },
  {
   "cell_type": "code",
   "execution_count": 3,
   "metadata": {
    "collapsed": true
   },
   "outputs": [],
   "source": [
    "b = datetime.datetime.now()"
   ]
  },
  {
   "cell_type": "code",
   "execution_count": 6,
   "metadata": {},
   "outputs": [
    {
     "name": "stdout",
     "output_type": "stream",
     "text": [
      "10\n"
     ]
    }
   ],
   "source": [
    "print((b-a).seconds)"
   ]
  },
  {
   "cell_type": "markdown",
   "metadata": {},
   "source": [
    "# Envío"
   ]
  },
  {
   "cell_type": "code",
   "execution_count": 5,
   "metadata": {
    "collapsed": true
   },
   "outputs": [],
   "source": [
    "# Envía el paquete con datos al servidor\n",
    "def send_packet(ip, port, message):\n",
    "    sock = socket.socket(socket.AF_INET, socket.SOCK_DGRAM)\n",
    "    server_address = (ip, port)\n",
    "\n",
    "    try:\n",
    "        sock.sendto(message.encode(), server_address)\n",
    "    finally:\n",
    "        sock.close()"
   ]
  },
  {
   "cell_type": "markdown",
   "metadata": {},
   "source": [
    "# Recibo "
   ]
  },
  {
   "cell_type": "code",
   "execution_count": 6,
   "metadata": {
    "collapsed": true
   },
   "outputs": [],
   "source": [
    "def receive_ack():\n",
    "    running = True\n",
    "    sock = socket.socket(socket.AF_INET, socket.SOCK_DGRAM)\n",
    "\n",
    "    sock.bind(('0.0.0.0', 2040))\n",
    "    sock.settimeout(90)\n",
    "\n",
    "    while running:\n",
    "        data, address = sock.recvfrom(1024)\n",
    "\n",
    "        if data:\n",
    "            print(\"ACK recibido: \" + data.decode())"
   ]
  },
  {
   "cell_type": "code",
   "execution_count": 7,
   "metadata": {},
   "outputs": [
    {
     "name": "stdout",
     "output_type": "stream",
     "text": [
      "hash is 732bfdef3022bcee2a1037438e9689a5\n",
      "ACK recibido: 00b4b147bc522828731f1a016bfa72c073\n"
     ]
    }
   ],
   "source": [
    "ack_thread = threading.Thread(target=receive_ack)\n",
    "ack_thread.start()\n",
    "\n",
    "seq_num = 0\n",
    "message = create_message(\"que pedo perrin\", seq_num)\n",
    "send_packet('0.0.0.0', 2030, message)\n"
   ]
  },
  {
   "cell_type": "code",
   "execution_count": null,
   "metadata": {
    "collapsed": true
   },
   "outputs": [],
   "source": []
  }
 ],
 "metadata": {
  "kernelspec": {
   "display_name": "Python 3",
   "language": "python",
   "name": "python3"
  },
  "language_info": {
   "codemirror_mode": {
    "name": "ipython",
    "version": 3
   },
   "file_extension": ".py",
   "mimetype": "text/x-python",
   "name": "python",
   "nbconvert_exporter": "python",
   "pygments_lexer": "ipython3",
   "version": "3.6.1"
  }
 },
 "nbformat": 4,
 "nbformat_minor": 2
}
