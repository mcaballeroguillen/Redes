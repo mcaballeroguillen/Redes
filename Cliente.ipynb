{
 "cells": [
  {
   "cell_type": "code",
   "execution_count": 2,
   "metadata": {},
   "outputs": [
    {
     "name": "stdout",
     "output_type": "stream",
     "text": [
      "Saludando al servidor 127.0.0.2:2031...\n",
      "Binario recibido, ahora lo parsearé...\n",
      "Enviaré esta respuesta: -10443@LVEUBZDK@74763442462353@1\n",
      "Cupón enviado, esperando respuesta...\n",
      "El servidor me dijo: \"¡Felicidades! ganaste 50 KioskitoCoins :)\"\n"
     ]
    }
   ],
   "source": [
    "import socket as libsock\n",
    "import random\n",
    "import struct\n",
    "\n",
    "addr = \"127.0.0.2\"\n",
    "port = 2031\n",
    "\n",
    "def run_client():\n",
    "    socket = libsock.socket(libsock.AF_INET, libsock.SOCK_DGRAM)\n",
    "    socket.connect((addr, port)) # SOCK_DGRAM es UDP\n",
    "    print(\"Saludando al servidor {}:{}...\".format(addr, port))\n",
    "    socket.send(\"hola\\n\".encode()) # El saludo\n",
    "    data, address = socket.recvfrom(1024) # Escucho para ver qué recibo\n",
    "    print(\"Binario recibido, ahora lo parsearé...\")\n",
    "    h, s, L, question_mark = struct.unpack(\"h8sL?\", data) # Hago unpack de la info recibida\n",
    "    response = \"{}@{}@{}@{}\".format(h, s.decode(), L, int(question_mark)) # la formateo como texto\n",
    "    print(\"Enviaré esta respuesta: \" + response) # esta es la cadena formateada como sale en el enunciado\n",
    "    socket.sendto(response.encode(), address) # y la envío de vuelta\n",
    "    print(\"Cupón enviado, esperando respuesta...\")\n",
    "    data, _ = socket.recvfrom(1024) # espero haber enviado la cadena correcta\n",
    "    print(\"El servidor me dijo: \\\"{}\\\"\".format(data.decode().strip())) # respuesta del servidor\n",
    "\n",
    "run_client()"
   ]
  },
  {
   "cell_type": "code",
   "execution_count": null,
   "metadata": {
    "collapsed": true
   },
   "outputs": [],
   "source": []
  }
 ],
 "metadata": {
  "kernelspec": {
   "display_name": "Python 3",
   "language": "python",
   "name": "python3"
  },
  "language_info": {
   "codemirror_mode": {
    "name": "ipython",
    "version": 3
   },
   "file_extension": ".py",
   "mimetype": "text/x-python",
   "name": "python",
   "nbconvert_exporter": "python",
   "pygments_lexer": "ipython3",
   "version": "3.6.1"
  }
 },
 "nbformat": 4,
 "nbformat_minor": 2
}
