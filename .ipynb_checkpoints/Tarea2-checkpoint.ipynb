{
 "cells": [
  {
   "cell_type": "code",
   "execution_count": 6,
   "metadata": {
    "collapsed": true
   },
   "outputs": [],
   "source": [
    "import random\n",
    "import socket\n",
    "import threading\n",
    "import hashlib\n",
    "import time\n",
    "from IPython.display import clear_output\n",
    "class Cliente_GBN:\n",
    "    def __init__(self,Ip_server,file,le_wi,le_pa,max_sec,port_send,port_rec):\n",
    "        self.serverIP=Ip_server\n",
    "        self.file = file\n",
    "        self.l_ventana= le_wi\n",
    "        self.largo_partes = le_pa\n",
    "        self.max_secuencia= max_sec\n",
    "        self.port_envio=port_send\n",
    "        self.port_recibo=port_rec\n",
    "        self.fill =0\n",
    "        self.data =[]\n",
    "        self.vi=0\n",
    "        self.vf=le_wi\n",
    "        self.tim= threading.Timer(5,self.enviar_ventana)\n",
    "        # Calcula el checksum de un mensaje en string (sí, es así de simple)\n",
    "    def calculate_checksum(self,message):\n",
    "        checksum = hashlib.md5(message.encode()).hexdigest()\n",
    "        return checksum\n",
    "    \n",
    "    # Crear mensaje\n",
    "    def create_message(self,message, seq_num):\n",
    "        seq_num_padded = str(seq_num).zfill(self.fill)\n",
    "        checksum = self.calculate_checksum(message)\n",
    "        return \"%s%s%s\" % (str(seq_num_padded), str(checksum), message)\n",
    "    \n",
    "    def cargar_datos(self):\n",
    "        archivo = open(self.file,'r')\n",
    "        mensaje = archivo.read()\n",
    "        archivo.close()\n",
    "        parts = [mensaje[i:i+self.largo_partes] for i in range(0, len(mensaje), self.largo_partes)]\n",
    "        self.fill = len(str(self.max_secuencia))\n",
    "        num_secuencia=0\n",
    "        for part in parts:\n",
    "            if(num_secuencia>self.max_secuencia):\n",
    "                num_secuencia=0\n",
    "            paquete = self.create_message(part,num_secuencia)\n",
    "            self.data.append(paquete)\n",
    "            num_secuencia=num_secuencia+1\n",
    "        \n",
    "    # Envía el paquete con datos al servidor\n",
    "    def send_packet(self,ip, port, message):\n",
    "        sock = socket.socket(socket.AF_INET, socket.SOCK_DGRAM)\n",
    "        server_address = (ip, port)\n",
    "        try:\n",
    "            sock.sendto(message.encode(), server_address)\n",
    "        finally:\n",
    "            sock.close()\n",
    "            \n",
    "    def enviar_ventana(self):\n",
    "        while (self.vi!=self.vf):\n",
    "            #clear_output()\n",
    "            for x in range(self.vi, self.vf+1):\n",
    "                print(\"Enviando paquete.\"+str(x))\n",
    "                self.send_packet(self.serverIP,self.port_envio,self.data[x])\n",
    "            time.sleep(2)\n",
    "        \n",
    "    def receive_ack(self):\n",
    "       \n",
    "        sock = socket.socket(socket.AF_INET, socket.SOCK_DGRAM)\n",
    "\n",
    "        sock.bind(('127.0.0.1', self.port_recibo))\n",
    "        sock.settimeout(90)\n",
    "\n",
    "        while (self.vi!=self.vf):\n",
    "            data, address = sock.recvfrom(1024)\n",
    "            \n",
    "            ack = data.decode()\n",
    "            num_sec = ack[0:self.fill]\n",
    "            print(\"llego: \"+num_sec)\n",
    "            num_sec = int(num_sec)\n",
    "            self.vi=num_sec\n",
    "            pvf= self.vf+self.l_ventana\n",
    "            if(pvf>=len(self.data)):\n",
    "                self.vf=len(self.data)-1\n",
    "            else:\n",
    "                self.vf=pvf\n",
    "            #self.tim.cancel()\n",
    "            #self.tim.start()\n",
    "        \n",
    "        \n",
    "        \n",
    "    "
   ]
  },
  {
   "cell_type": "code",
   "execution_count": 8,
   "metadata": {},
   "outputs": [
    {
     "name": "stdout",
     "output_type": "stream",
     "text": [
      "20\n"
     ]
    }
   ],
   "source": [
    "client = Cliente_GBN(\"0.0.0.0\",\"Enviar.txt\",10,100,99,2030,2040)\n",
    "client.cargar_datos()\n",
    "print(len(client.data))\n"
   ]
  },
  {
   "cell_type": "code",
   "execution_count": 9,
   "metadata": {},
   "outputs": [
    {
     "name": "stdout",
     "output_type": "stream",
     "text": [
      "Enviando paquete.0\n",
      "Enviando paquete.1\n",
      "Enviando paquete.2\n",
      "Enviando paquete.3\n",
      "Enviando paquete.4\n",
      "Enviando paquete.5\n",
      "Enviando paquete.6\n",
      "Enviando paquete.7\n",
      "Enviando paquete.8\n",
      "Enviando paquete.9\n",
      "Enviando paquete.10\n",
      "llego: 00\n",
      "llego: 01\n",
      "llego: 02\n",
      "llego: 03\n",
      "llego: 04\n",
      "llego: 05\n",
      "llego: 06\n",
      "llego: 07\n",
      "llego: 07\n",
      "llego: 07\n",
      "Enviando paquete.7\n",
      "Enviando paquete.8\n",
      "Enviando paquete.9\n",
      "Enviando paquete.10\n",
      "Enviando paquete.11\n",
      "Enviando paquete.12\n",
      "Enviando paquete.13\n",
      "Enviando paquete.14\n",
      "Enviando paquete.15\n",
      "Enviando paquete.16\n",
      "Enviando paquete.17\n",
      "Enviando paquete.18\n",
      "Enviando paquete.19\n",
      "llego: 07\n",
      "llego: 08\n",
      "llego: 09\n",
      "llego: 10\n",
      "llego: 11\n",
      "llego: 12\n",
      "llego: 13\n",
      "llego: 14\n",
      "llego: 15\n",
      "llego: 15\n",
      "llego: 15\n",
      "Enviando paquete.15\n",
      "Enviando paquete.16\n",
      "Enviando paquete.17\n",
      "Enviando paquete.18\n",
      "Enviando paquete.19\n",
      "llego: 15\n",
      "llego: 16\n",
      "llego: 17\n",
      "llego: 18\n",
      "Enviando paquete.18\n",
      "Enviando paquete.19\n",
      "llego: 18\n",
      "llego: 19\n"
     ]
    }
   ],
   "source": [
    "ack_thread = threading.Thread(target=client.receive_ack)\n",
    "ack_thread.start()\n",
    "\n",
    "client.tim.start()\n"
   ]
  },
  {
   "cell_type": "code",
   "execution_count": 7,
   "metadata": {},
   "outputs": [
    {
     "ename": "SyntaxError",
     "evalue": "invalid syntax (<ipython-input-7-a0846c9c7ccc>, line 1)",
     "output_type": "error",
     "traceback": [
      "\u001b[0;36m  File \u001b[0;32m\"<ipython-input-7-a0846c9c7ccc>\"\u001b[0;36m, line \u001b[0;32m1\u001b[0m\n\u001b[0;31m    fuser -k 2035/udp\u001b[0m\n\u001b[0m                ^\u001b[0m\n\u001b[0;31mSyntaxError\u001b[0m\u001b[0;31m:\u001b[0m invalid syntax\n"
     ]
    }
   ],
   "source": [
    "fuser -k 2035/udp\n"
   ]
  },
  {
   "cell_type": "code",
   "execution_count": 30,
   "metadata": {},
   "outputs": [
    {
     "data": {
      "text/plain": [
       "'63'"
      ]
     },
     "execution_count": 30,
     "metadata": {},
     "output_type": "execute_result"
    }
   ],
   "source": [
    "ss = \"6303106fa943dffe6d7e17a8bdf8f0907es\"\n",
    "ss[0:2]"
   ]
  },
  {
   "cell_type": "markdown",
   "metadata": {},
   "source": [
    "# Envío"
   ]
  },
  {
   "cell_type": "code",
   "execution_count": 5,
   "metadata": {
    "collapsed": true
   },
   "outputs": [],
   "source": [
    "# Envía el paquete con datos al servidor\n",
    "def send_packet(ip, port, message):\n",
    "    sock = socket.socket(socket.AF_INET, socket.SOCK_DGRAM)\n",
    "    server_address = (ip, port)\n",
    "\n",
    "    try:\n",
    "        sock.sendto(message.encode(), server_address)\n",
    "    finally:\n",
    "        sock.close()"
   ]
  },
  {
   "cell_type": "markdown",
   "metadata": {},
   "source": [
    "# Recibo "
   ]
  },
  {
   "cell_type": "code",
   "execution_count": 6,
   "metadata": {
    "collapsed": true
   },
   "outputs": [],
   "source": [
    "def receive_ack():\n",
    "    running = True\n",
    "    sock = socket.socket(socket.AF_INET, socket.SOCK_DGRAM)\n",
    "\n",
    "    sock.bind(('0.0.0.0', 2040))\n",
    "    sock.settimeout(90)\n",
    "\n",
    "    while running:\n",
    "        data, address = sock.recvfrom(1024)\n",
    "\n",
    "        if data:\n",
    "            print(\"ACK recibido: \" + data.decode())"
   ]
  },
  {
   "cell_type": "code",
   "execution_count": 7,
   "metadata": {},
   "outputs": [
    {
     "name": "stdout",
     "output_type": "stream",
     "text": [
      "hash is 732bfdef3022bcee2a1037438e9689a5\n",
      "ACK recibido: 00b4b147bc522828731f1a016bfa72c073\n"
     ]
    }
   ],
   "source": [
    "ack_thread = threading.Thread(target=receive_ack)\n",
    "ack_thread.start()\n",
    "\n",
    "seq_num = 0\n",
    "message = create_message(\"que pedo perrin\", seq_num)\n",
    "send_packet('0.0.0.0', 2030, message)\n"
   ]
  },
  {
   "cell_type": "code",
   "execution_count": null,
   "metadata": {
    "collapsed": true
   },
   "outputs": [],
   "source": []
  }
 ],
 "metadata": {
  "kernelspec": {
   "display_name": "Python 3",
   "language": "python",
   "name": "python3"
  },
  "language_info": {
   "codemirror_mode": {
    "name": "ipython",
    "version": 3
   },
   "file_extension": ".py",
   "mimetype": "text/x-python",
   "name": "python",
   "nbconvert_exporter": "python",
   "pygments_lexer": "ipython3",
   "version": "3.6.1"
  }
 },
 "nbformat": 4,
 "nbformat_minor": 2
}
