{
 "cells": [
  {
   "cell_type": "markdown",
   "metadata": {},
   "source": [
    "# Cídigo Auxiliar\n"
   ]
  },
  {
   "cell_type": "code",
   "execution_count": 10,
   "metadata": {},
   "outputs": [
    {
     "name": "stdout",
     "output_type": "stream",
     "text": [
      "listening on 127.0.0.2:2031...\n",
      "Data received from address ('127.0.0.1', 39415)\n",
      "Data is hola\n",
      "hola received\n",
      "new wallet (8511, b'RPLXEFIA', 68777575226264, True)\n",
      "sent wallet to address\n",
      "b'8511@RPLXEFIA@68777575226264@1'\n",
      "Wallet received (8511, b'RPLXEFIA', 68777575226264, True)\n",
      "Data received from address ('127.0.0.1', 33661)\n",
      "Data is hola\n",
      "hola received\n",
      "new wallet (-10443, b'LVEUBZDK', 74763442462353, True)\n",
      "sent wallet to address\n",
      "b'-10443@LVEUBZDK@74763442462353@1'\n",
      "Wallet received (-10443, b'LVEUBZDK', 74763442462353, True)\n"
     ]
    },
    {
     "ename": "KeyboardInterrupt",
     "evalue": "",
     "output_type": "error",
     "traceback": [
      "\u001b[0;31m---------------------------------------------------------------------------\u001b[0m",
      "\u001b[0;31mKeyboardInterrupt\u001b[0m                         Traceback (most recent call last)",
      "\u001b[0;32m<ipython-input-10-b16feec3b5e7>\u001b[0m in \u001b[0;36m<module>\u001b[0;34m()\u001b[0m\n\u001b[1;32m     58\u001b[0m         \u001b[0msocket\u001b[0m\u001b[0;34m.\u001b[0m\u001b[0msendto\u001b[0m\u001b[0;34m(\u001b[0m\u001b[0;34m\"Adios!\\n\"\u001b[0m\u001b[0;34m.\u001b[0m\u001b[0mencode\u001b[0m\u001b[0;34m(\u001b[0m\u001b[0;34m)\u001b[0m\u001b[0;34m,\u001b[0m \u001b[0maddress\u001b[0m\u001b[0;34m)\u001b[0m\u001b[0;34m\u001b[0m\u001b[0m\n\u001b[1;32m     59\u001b[0m \u001b[0;34m\u001b[0m\u001b[0m\n\u001b[0;32m---> 60\u001b[0;31m \u001b[0mrun_server\u001b[0m\u001b[0;34m(\u001b[0m\u001b[0;34m)\u001b[0m\u001b[0;34m\u001b[0m\u001b[0m\n\u001b[0m",
      "\u001b[0;32m<ipython-input-10-b16feec3b5e7>\u001b[0m in \u001b[0;36mrun_server\u001b[0;34m()\u001b[0m\n\u001b[1;32m     35\u001b[0m     \u001b[0msocket\u001b[0m\u001b[0;34m.\u001b[0m\u001b[0mbind\u001b[0m\u001b[0;34m(\u001b[0m\u001b[0;34m(\u001b[0m\u001b[0maddr\u001b[0m\u001b[0;34m,\u001b[0m \u001b[0mport\u001b[0m\u001b[0;34m)\u001b[0m\u001b[0;34m)\u001b[0m  \u001b[0;31m# enlazando al puerto\u001b[0m\u001b[0;34m\u001b[0m\u001b[0m\n\u001b[1;32m     36\u001b[0m     \u001b[0;32mwhile\u001b[0m \u001b[0;32mTrue\u001b[0m\u001b[0;34m:\u001b[0m  \u001b[0;31m# escucha para siempre\u001b[0m\u001b[0;34m\u001b[0m\u001b[0m\n\u001b[0;32m---> 37\u001b[0;31m         \u001b[0mdata\u001b[0m\u001b[0;34m,\u001b[0m \u001b[0maddress\u001b[0m \u001b[0;34m=\u001b[0m \u001b[0msocket\u001b[0m\u001b[0;34m.\u001b[0m\u001b[0mrecvfrom\u001b[0m\u001b[0;34m(\u001b[0m\u001b[0;36m1024\u001b[0m\u001b[0;34m)\u001b[0m  \u001b[0;31m# recibe datos del cliente\u001b[0m\u001b[0;34m\u001b[0m\u001b[0m\n\u001b[0m\u001b[1;32m     38\u001b[0m         \u001b[0mprint\u001b[0m\u001b[0;34m(\u001b[0m\u001b[0;34m\"Data received from address {}\"\u001b[0m\u001b[0;34m.\u001b[0m\u001b[0mformat\u001b[0m\u001b[0;34m(\u001b[0m\u001b[0maddress\u001b[0m\u001b[0;34m)\u001b[0m\u001b[0;34m)\u001b[0m  \u001b[0;31m# logging\u001b[0m\u001b[0;34m\u001b[0m\u001b[0m\n\u001b[1;32m     39\u001b[0m         \u001b[0mprint\u001b[0m\u001b[0;34m(\u001b[0m\u001b[0;34m\"Data is\"\u001b[0m\u001b[0;34m,\u001b[0m \u001b[0mdata\u001b[0m\u001b[0;34m.\u001b[0m\u001b[0mdecode\u001b[0m\u001b[0;34m(\u001b[0m\u001b[0;34m)\u001b[0m\u001b[0;34m.\u001b[0m\u001b[0mstrip\u001b[0m\u001b[0;34m(\u001b[0m\u001b[0;34m)\u001b[0m\u001b[0;34m)\u001b[0m  \u001b[0;31m# logging\u001b[0m\u001b[0;34m\u001b[0m\u001b[0m\n",
      "\u001b[0;31mKeyboardInterrupt\u001b[0m: "
     ]
    }
   ],
   "source": [
    "import socket as libsock\n",
    "import random\n",
    "import struct\n",
    "import time\n",
    "\n",
    "addr = \"127.0.0.2\"\n",
    "port = 2031\n",
    "\n",
    "\n",
    "def parse_string_to_wallet(string):\n",
    "    h, s, L, question_mark = tuple(string.decode().split(\"@\"))\n",
    "    return int(h), s.encode(), int(L), bool(int(question_mark))\n",
    "\n",
    "\n",
    "def create_random_string(length):\n",
    "    allowed_chars = \"ABCDEFGHIJKLMNOPQRSTUVWXYZ\"\n",
    "    random_str = \"\"\n",
    "    for i in range(length):\n",
    "        random_str += allowed_chars[random.randint(0, len(allowed_chars) - 1)]\n",
    "    return random_str\n",
    "\n",
    "\n",
    "def create_new_wallet(address):\n",
    "    h = random.randint(-0x7fff - 1, 0x7fff)  # dos bytes\n",
    "    s = create_random_string(8).encode()\n",
    "    L = random.randint(0, 99999999999999)\n",
    "    question_mark = True if random.random() >= 0.5 else False\n",
    "    wallet = (h, s, L, question_mark)\n",
    "    return wallet, struct.pack('h8sL?', *wallet)\n",
    "\n",
    "\n",
    "def run_server():\n",
    "    socket = libsock.socket(libsock.AF_INET, libsock.SOCK_DGRAM)  # SOCK_DGRAM es UDP\n",
    "    print(\"listening on {}:{}...\".format(addr, port))  # logging\n",
    "    socket.bind((addr, port))  # enlazando al puerto\n",
    "    while True:  # escucha para siempre\n",
    "        data, address = socket.recvfrom(1024)  # recibe datos del cliente\n",
    "        print(\"Data received from address {}\".format(address))  # logging\n",
    "        print(\"Data is\", data.decode().strip())  # logging\n",
    "        time.sleep(2) # para que parezca que está procesando\n",
    "        if \"hola\" in data.decode():  # chequea que su primer mensaje sea hola\n",
    "            print(\"hola received\")\n",
    "            wallet, binary = create_new_wallet(address)  # crea una nueva wallet\n",
    "            print(\"new wallet\", wallet)\n",
    "            socket.sendto(binary, address)  # envía el cupón al remitente\n",
    "            print(\"sent wallet to address\")\n",
    "            new_data, new_address = socket.recvfrom(1024)  # espera respuesta\n",
    "            time.sleep(2)  # para que parezca que está procesando\n",
    "            print(new_data)\n",
    "            proposed_wallet = parse_string_to_wallet(new_data)  # parsea respuesta\n",
    "            print(\"Wallet received\", proposed_wallet)\n",
    "            if proposed_wallet == wallet:  # si son iguales, ganamos\n",
    "                socket.sendto(\"¡Felicidades! ganaste 50 KioskitoCoins :)\\n\".encode(), address)\n",
    "            else:  # si no, avisar\n",
    "                socket.sendto(\"Cupón incorrecto :(\\n\".encode(), address)\n",
    "        else:\n",
    "            socket.sendto(\"Si no saludas bien no podemos hablar :(\\n\".encode(), address)\n",
    "        socket.sendto(\"Adios!\\n\".encode(), address)\n",
    "\n",
    "run_server()"
   ]
  },
  {
   "cell_type": "code",
   "execution_count": 2,
   "metadata": {},
   "outputs": [],
   "source": [
    "import socket as libsock\n",
    "import random\n",
    "import struct\n",
    "import time\n",
    "class Server:\n",
    "    def __init__(self,puerto):\n",
    "        self.port=puerto\n",
    "        self.anddres=\"127.0.0.3\"\n",
    "    def run(self):\n",
    "        socket = libsock.socket(libsock.AF_INET, libsock.SOCK_DGRAM)  # SOCK_DGRAM es UDP\n",
    "        print(\"listening on {}:{}...\".format(self.anddres, self.port))  # logging\n",
    "        socket.bind((self.anddres, self.port))  # enlazando al puerto\n",
    "        data, address = socket.recvfrom(1024)  # recibe datos del cliente\n",
    "        print(\"Data received from address {}\".format(address))  # logging\n",
    "       # print(\"Data is\", data.decode().strip())  # logging\n",
    "        #time.sleep(2) # para que parezca que está procesando\n",
    "        socket0 = libsock.socket(libsock.AF_INET, libsock.SOCK_DGRAM)\n",
    "        socket0.connect((\"8.8.8.8\", 53))\n",
    "        socket0.send(data)\n",
    "        data1, address1 = socket0.recvfrom(1024)\n",
    "        socket.sendto(data1, address)\n",
    "        \n",
    "        "
   ]
  },
  {
   "cell_type": "code",
   "execution_count": 3,
   "metadata": {
    "scrolled": true
   },
   "outputs": [
    {
     "name": "stdout",
     "output_type": "stream",
     "text": [
      "listening on 127.0.0.3:2035...\n",
      "Data received from address ('127.0.0.1', 44454)\n"
     ]
    },
    {
     "ename": "KeyboardInterrupt",
     "evalue": "",
     "output_type": "error",
     "traceback": [
      "\u001b[0;31m---------------------------------------------------------------------------\u001b[0m",
      "\u001b[0;31mKeyboardInterrupt\u001b[0m                         Traceback (most recent call last)",
      "\u001b[0;32m<ipython-input-3-ed803a0ca1a9>\u001b[0m in \u001b[0;36m<module>\u001b[0;34m()\u001b[0m\n\u001b[1;32m      1\u001b[0m \u001b[0mServidor1\u001b[0m\u001b[0;34m=\u001b[0m \u001b[0mServer\u001b[0m\u001b[0;34m(\u001b[0m\u001b[0;36m2035\u001b[0m\u001b[0;34m)\u001b[0m\u001b[0;34m\u001b[0m\u001b[0m\n\u001b[0;32m----> 2\u001b[0;31m \u001b[0mServidor1\u001b[0m\u001b[0;34m.\u001b[0m\u001b[0mrun\u001b[0m\u001b[0;34m(\u001b[0m\u001b[0;34m)\u001b[0m\u001b[0;34m\u001b[0m\u001b[0m\n\u001b[0m",
      "\u001b[0;32m<ipython-input-2-92e2ddde6a18>\u001b[0m in \u001b[0;36mrun\u001b[0;34m(self)\u001b[0m\n\u001b[1;32m     18\u001b[0m         \u001b[0msocket0\u001b[0m\u001b[0;34m.\u001b[0m\u001b[0mconnect\u001b[0m\u001b[0;34m(\u001b[0m\u001b[0;34m(\u001b[0m\u001b[0;34m\"1.1.1.1\"\u001b[0m\u001b[0;34m,\u001b[0m \u001b[0;36m53\u001b[0m\u001b[0;34m)\u001b[0m\u001b[0;34m)\u001b[0m\u001b[0;34m\u001b[0m\u001b[0m\n\u001b[1;32m     19\u001b[0m         \u001b[0msocket0\u001b[0m\u001b[0;34m.\u001b[0m\u001b[0msend\u001b[0m\u001b[0;34m(\u001b[0m\u001b[0mdata\u001b[0m\u001b[0;34m)\u001b[0m\u001b[0;34m\u001b[0m\u001b[0m\n\u001b[0;32m---> 20\u001b[0;31m         \u001b[0mdata1\u001b[0m\u001b[0;34m,\u001b[0m \u001b[0maddress1\u001b[0m \u001b[0;34m=\u001b[0m \u001b[0msocket0\u001b[0m\u001b[0;34m.\u001b[0m\u001b[0mrecvfrom\u001b[0m\u001b[0;34m(\u001b[0m\u001b[0;36m1024\u001b[0m\u001b[0;34m)\u001b[0m\u001b[0;34m\u001b[0m\u001b[0m\n\u001b[0m\u001b[1;32m     21\u001b[0m         \u001b[0msocket\u001b[0m\u001b[0;34m.\u001b[0m\u001b[0msendto\u001b[0m\u001b[0;34m(\u001b[0m\u001b[0mdata1\u001b[0m\u001b[0;34m,\u001b[0m \u001b[0maddress\u001b[0m\u001b[0;34m)\u001b[0m\u001b[0;34m\u001b[0m\u001b[0m\n\u001b[1;32m     22\u001b[0m \u001b[0;34m\u001b[0m\u001b[0m\n",
      "\u001b[0;31mKeyboardInterrupt\u001b[0m: "
     ]
    }
   ],
   "source": [
    "Servidor1= Server(2035)\n",
    "Servidor1.run()"
   ]
  },
  {
   "cell_type": "code",
   "execution_count": null,
   "metadata": {
    "collapsed": true
   },
   "outputs": [],
   "source": [
    "import struct\n",
    "pack('s',)"
   ]
  }
 ],
 "metadata": {
  "kernelspec": {
   "display_name": "Python 3",
   "language": "python",
   "name": "python3"
  },
  "language_info": {
   "codemirror_mode": {
    "name": "ipython",
    "version": 3
   },
   "file_extension": ".py",
   "mimetype": "text/x-python",
   "name": "python",
   "nbconvert_exporter": "python",
   "pygments_lexer": "ipython3",
   "version": "3.6.1"
  }
 },
 "nbformat": 4,
 "nbformat_minor": 2
}
